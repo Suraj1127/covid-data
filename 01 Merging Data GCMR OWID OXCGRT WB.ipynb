{
 "cells": [
  {
   "cell_type": "markdown",
   "metadata": {},
   "source": [
    "# Jupyter Notebook to Merge COVID Related Data From Multiple Data Sources "
   ]
  },
  {
   "cell_type": "markdown",
   "metadata": {},
   "source": [
    "#### _Work done by Nepal Poverty Team, The World Bank_"
   ]
  },
  {
   "cell_type": "markdown",
   "metadata": {},
   "source": [
    "## Data Sources:\n",
    "1. [Google Community Mobility Reports](https://www.google.com/covid19/mobility/)\n",
    "2. [The Oxford COVID-19 Government Response Tracker](https://www.bsg.ox.ac.uk/research/research-projects/coronavirus-government-response-tracker) \n",
    "3. [Our World in Data](https://ourworldindata.org/coronavirus) \n",
    "4. [World Bank's list of economies](https://datahelpdesk.worldbank.org/knowledgebase/articles/906519-world-bank-country-and-lending-groups)"
   ]
  },
  {
   "cell_type": "markdown",
   "metadata": {},
   "source": [
    "We have used Python 3 and produced the Python 3 Jupyter notebook showing data cleaning and merging."
   ]
  },
  {
   "cell_type": "markdown",
   "metadata": {},
   "source": [
    "## Setup"
   ]
  },
  {
   "cell_type": "markdown",
   "metadata": {},
   "source": [
    "Running of this notebook requires Jupyter software system. Either Jupyter notebook or Jupyter lab can be installed on the system. In addition, two additional Python packages -- pycountry and pandas -- are required."
   ]
  },
  {
   "cell_type": "markdown",
   "metadata": {},
   "source": [
    "### Jupyter Software Installation\n",
    "https://jupyter.org/install\n",
    "\n",
    "### pycountry Package Installation\n",
    "https://pypi.org/project/pycountry/\n",
    "\n",
    "### pandas Package Installation\n",
    "https://pandas.pydata.org/pandas-docs/stable/getting_started/install.html"
   ]
  },
  {
   "cell_type": "markdown",
   "metadata": {},
   "source": [
    "After all the dependencies are installed the notebook can be imported to the Jupyter software and run."
   ]
  },
  {
   "cell_type": "markdown",
   "metadata": {},
   "source": [
    "## Imports"
   ]
  },
  {
   "cell_type": "code",
   "execution_count": 1,
   "metadata": {},
   "outputs": [],
   "source": [
    "import time\n",
    "import datetime\n",
    "import requests\n",
    "import pycountry\n",
    "import pandas as pd"
   ]
  },
  {
   "cell_type": "markdown",
   "metadata": {},
   "source": [
    "## Save the column names of latest CSV file in a list"
   ]
  },
  {
   "cell_type": "code",
   "execution_count": 2,
   "metadata": {},
   "outputs": [],
   "source": [
    "# skip this cell if you are using this notebook for the first time or do not have previous version of GCMR_OWID_OxCGRT_WB_x.csv file.\n",
    "latest_CSV_file = 'GCMR_OWID_OxCGRT_WB_1593014927.5399244.csv'\n",
    "columns = pd.read_csv(latest_CSV_file, nrows=1).columns.tolist()\n",
    "drop_columns = set(['OXCGRT_Date', 'OXCGRT_CountryCode', 'OWID_iso_code', 'OWID_date', 'GCMR_country_region_code', 'GCMR_date'])"
   ]
  },
  {
   "cell_type": "markdown",
   "metadata": {},
   "source": [
    "## Data extraction from URLs"
   ]
  },
  {
   "cell_type": "code",
   "execution_count": 2,
   "metadata": {},
   "outputs": [
    {
     "name": "stderr",
     "output_type": "stream",
     "text": [
      "/home/regmi/envs/data_analysis/lib/python3.6/site-packages/IPython/core/interactiveshell.py:2728: DtypeWarning: Columns (4,5) have mixed types. Specify dtype option on import or set low_memory=False.\n",
      "  interactivity=interactivity, compiler=compiler, result=result)\n"
     ]
    },
    {
     "name": "stdout",
     "output_type": "stream",
     "text": [
      "Google mobility data fetched.\n",
      "OWID data fetched.\n",
      "OxCGRT data fetched.\n"
     ]
    },
    {
     "name": "stderr",
     "output_type": "stream",
     "text": [
      "/home/regmi/envs/data_analysis/lib/python3.6/site-packages/IPython/core/interactiveshell.py:2728: DtypeWarning: Columns (2,3) have mixed types. Specify dtype option on import or set low_memory=False.\n",
      "  interactivity=interactivity, compiler=compiler, result=result)\n"
     ]
    }
   ],
   "source": [
    "# getting data from the web URLs\n",
    "\n",
    "google_url = \"https://www.gstatic.com/covid19/mobility/Global_Mobility_Report.csv\"\n",
    "google_data = pd.read_csv(google_url)\n",
    "print(\"Google mobility data fetched.\")\n",
    "\n",
    "owid_url = 'https://raw.githubusercontent.com/owid/covid-19-data/master/public/data/owid-covid-data.csv'\n",
    "owid_data = pd.read_csv(owid_url)\n",
    "print(\"OWID data fetched.\")\n",
    "\n",
    "oxford_url = 'https://raw.githubusercontent.com/OxCGRT/covid-policy-tracker/master/data/OxCGRT_latest.csv'\n",
    "oxford_data = pd.read_csv(oxford_url)\n",
    "print(\"OxCGRT data fetched.\")"
   ]
  },
  {
   "cell_type": "markdown",
   "metadata": {},
   "source": [
    "## Data cleaning"
   ]
  },
  {
   "cell_type": "markdown",
   "metadata": {},
   "source": [
    "We saw country region code for Namibia missing in the Google mobility data, so we add the country code for Namibia. Similarly, we add `INTL` as country code for International numbers. They are the numbers not belonging to any country."
   ]
  },
  {
   "cell_type": "code",
   "execution_count": 3,
   "metadata": {},
   "outputs": [],
   "source": [
    "# Add 'NAM' as country_region_code for Namibia\n",
    "\n",
    "google_data.loc[google_data[google_data['country_region'] == 'Namibia'].index, 'country_region_code'] = \"NA\"\n",
    "assert google_data['country_region_code'].isnull().sum() == 0"
   ]
  },
  {
   "cell_type": "code",
   "execution_count": 4,
   "metadata": {},
   "outputs": [],
   "source": [
    "# Add INTL as international ISO code for owid_data\n",
    "owid_data.loc[owid_data[owid_data['location'] == 'International'].index, 'iso_code'] = 'INTL'\n",
    "assert owid_data['iso_code'].isnull().sum() == 0\n",
    "\n",
    "# also assert oxford_data does not have any null country codes\n",
    "assert oxford_data['CountryCode'].isnull().sum() == 0"
   ]
  },
  {
   "cell_type": "markdown",
   "metadata": {},
   "source": [
    "Let's prepend the column names by `GCMR_`, `OWID_` and `OXCGRT_` for Google mobility data, OWID data and Oxford policy tracker data respectively. This helps us to distinguish the source of the columns."
   ]
  },
  {
   "cell_type": "code",
   "execution_count": 5,
   "metadata": {},
   "outputs": [],
   "source": [
    "# GCMR for Google Community Mobility Report\n",
    "google_data.columns = ['GCMR_' + i for i in google_data.columns]\n",
    "\n",
    "# OWID for Our World in Development\n",
    "owid_data.columns = ['OWID_' + i for i in owid_data.columns]\n",
    "\n",
    "# OXCGRT for Oxford COVID-19 Government Response Tracker\n",
    "oxford_data.columns = ['OXCGRT_' + i for i in oxford_data.columns]"
   ]
  },
  {
   "cell_type": "markdown",
   "metadata": {},
   "source": [
    "### Column names validation"
   ]
  },
  {
   "cell_type": "code",
   "execution_count": 6,
   "metadata": {},
   "outputs": [
    {
     "ename": "NameError",
     "evalue": "name 'columns' is not defined",
     "output_type": "error",
     "traceback": [
      "\u001b[0;31m---------------------------------------------------------------------------\u001b[0m",
      "\u001b[0;31mNameError\u001b[0m                                 Traceback (most recent call last)",
      "\u001b[0;32m<ipython-input-6-d69ab5ab31a3>\u001b[0m in \u001b[0;36m<module>\u001b[0;34m()\u001b[0m\n\u001b[0;32m----> 1\u001b[0;31m \u001b[0mprint\u001b[0m\u001b[0;34m(\u001b[0m\u001b[0;34m\"New columns:\"\u001b[0m\u001b[0;34m,\u001b[0m\u001b[0mset\u001b[0m\u001b[0;34m(\u001b[0m\u001b[0mgoogle_data\u001b[0m\u001b[0;34m.\u001b[0m\u001b[0mcolumns\u001b[0m\u001b[0;34m)\u001b[0m\u001b[0;34m.\u001b[0m\u001b[0munion\u001b[0m\u001b[0;34m(\u001b[0m\u001b[0mset\u001b[0m\u001b[0;34m(\u001b[0m\u001b[0mowid_data\u001b[0m\u001b[0;34m.\u001b[0m\u001b[0mcolumns\u001b[0m\u001b[0;34m)\u001b[0m\u001b[0;34m)\u001b[0m\u001b[0;34m.\u001b[0m\u001b[0munion\u001b[0m\u001b[0;34m(\u001b[0m\u001b[0mset\u001b[0m\u001b[0;34m(\u001b[0m\u001b[0moxford_data\u001b[0m\u001b[0;34m.\u001b[0m\u001b[0mcolumns\u001b[0m\u001b[0;34m)\u001b[0m\u001b[0;34m)\u001b[0m \u001b[0;34m-\u001b[0m \u001b[0mset\u001b[0m\u001b[0;34m(\u001b[0m\u001b[0mcolumns\u001b[0m\u001b[0;34m)\u001b[0m\u001b[0;34m.\u001b[0m\u001b[0munion\u001b[0m\u001b[0;34m(\u001b[0m\u001b[0mdrop_columns\u001b[0m\u001b[0;34m)\u001b[0m\u001b[0;34m)\u001b[0m\u001b[0;34m\u001b[0m\u001b[0;34m\u001b[0m\u001b[0m\n\u001b[0m",
      "\u001b[0;31mNameError\u001b[0m: name 'columns' is not defined"
     ]
    }
   ],
   "source": [
    "print(\"New columns:\",set(google_data.columns).union(set(owid_data.columns)).union(set(oxford_data.columns)) - set(columns).union(drop_columns))"
   ]
  },
  {
   "cell_type": "code",
   "execution_count": 7,
   "metadata": {},
   "outputs": [
    {
     "ename": "NameError",
     "evalue": "name 'columns' is not defined",
     "output_type": "error",
     "traceback": [
      "\u001b[0;31m---------------------------------------------------------------------------\u001b[0m",
      "\u001b[0;31mNameError\u001b[0m                                 Traceback (most recent call last)",
      "\u001b[0;32m<ipython-input-7-7c5112abcd0c>\u001b[0m in \u001b[0;36m<module>\u001b[0;34m()\u001b[0m\n\u001b[1;32m      1\u001b[0m \u001b[0;31m# raise error if any of the different column name has been used in any of the data or new column has been introduced\u001b[0m\u001b[0;34m\u001b[0m\u001b[0;34m\u001b[0m\u001b[0;34m\u001b[0m\u001b[0m\n\u001b[1;32m      2\u001b[0m \u001b[0;31m# this should be fixed manually seeing the different or new column name\u001b[0m\u001b[0;34m\u001b[0m\u001b[0;34m\u001b[0m\u001b[0;34m\u001b[0m\u001b[0m\n\u001b[0;32m----> 3\u001b[0;31m \u001b[0;32massert\u001b[0m \u001b[0mset\u001b[0m\u001b[0;34m(\u001b[0m\u001b[0mgoogle_data\u001b[0m\u001b[0;34m.\u001b[0m\u001b[0mcolumns\u001b[0m\u001b[0;34m)\u001b[0m\u001b[0;34m.\u001b[0m\u001b[0munion\u001b[0m\u001b[0;34m(\u001b[0m\u001b[0mset\u001b[0m\u001b[0;34m(\u001b[0m\u001b[0mowid_data\u001b[0m\u001b[0;34m.\u001b[0m\u001b[0mcolumns\u001b[0m\u001b[0;34m)\u001b[0m\u001b[0;34m)\u001b[0m\u001b[0;34m.\u001b[0m\u001b[0munion\u001b[0m\u001b[0;34m(\u001b[0m\u001b[0mset\u001b[0m\u001b[0;34m(\u001b[0m\u001b[0moxford_data\u001b[0m\u001b[0;34m.\u001b[0m\u001b[0mcolumns\u001b[0m\u001b[0;34m)\u001b[0m\u001b[0;34m)\u001b[0m \u001b[0;34m-\u001b[0m \u001b[0mset\u001b[0m\u001b[0;34m(\u001b[0m\u001b[0mcolumns\u001b[0m\u001b[0;34m)\u001b[0m\u001b[0;34m.\u001b[0m\u001b[0munion\u001b[0m\u001b[0;34m(\u001b[0m\u001b[0mdrop_columns\u001b[0m\u001b[0;34m)\u001b[0m \u001b[0;34m==\u001b[0m \u001b[0mset\u001b[0m\u001b[0;34m(\u001b[0m\u001b[0;34m)\u001b[0m\u001b[0;34m\u001b[0m\u001b[0;34m\u001b[0m\u001b[0m\n\u001b[0m",
      "\u001b[0;31mNameError\u001b[0m: name 'columns' is not defined"
     ]
    }
   ],
   "source": [
    "# raise error if any of the different column name has been used in any of the data or new column has been introduced\n",
    "# this should be fixed manually seeing the different or new column name\n",
    "assert set(google_data.columns).union(set(owid_data.columns)).union(set(oxford_data.columns)) - set(columns).union(drop_columns) == set()"
   ]
  },
  {
   "cell_type": "code",
   "execution_count": 8,
   "metadata": {},
   "outputs": [
    {
     "data": {
      "text/plain": [
       "((3816670, 14), (59745, 55), (106120, 49))"
      ]
     },
     "execution_count": 8,
     "metadata": {},
     "output_type": "execute_result"
    }
   ],
   "source": [
    "google_data.shape, owid_data.shape, oxford_data.shape"
   ]
  },
  {
   "cell_type": "code",
   "execution_count": 9,
   "metadata": {},
   "outputs": [],
   "source": [
    "oxford_data = oxford_data[oxford_data['OXCGRT_RegionCode'].isnull()]"
   ]
  },
  {
   "cell_type": "code",
   "execution_count": 10,
   "metadata": {},
   "outputs": [],
   "source": [
    "google_data = google_data[google_data['GCMR_sub_region_1'].isnull() & google_data['GCMR_metro_area'].isnull()]"
   ]
  },
  {
   "cell_type": "code",
   "execution_count": 11,
   "metadata": {},
   "outputs": [
    {
     "data": {
      "text/plain": [
       "((44193, 14), (59745, 55), (69736, 49))"
      ]
     },
     "execution_count": 11,
     "metadata": {},
     "output_type": "execute_result"
    }
   ],
   "source": [
    "google_data.shape, owid_data.shape, oxford_data.shape"
   ]
  },
  {
   "cell_type": "markdown",
   "metadata": {},
   "source": [
    "Let's bring date of Oxford policy tracker data to the desired, compatible date format."
   ]
  },
  {
   "cell_type": "code",
   "execution_count": 12,
   "metadata": {},
   "outputs": [],
   "source": [
    "oxford_data['OXCGRT_Date'] = oxford_data['OXCGRT_Date'].apply(lambda x: str(x)).apply(lambda x: x[:4] + '-' + x[4:6] + '-' + x[6:])"
   ]
  },
  {
   "cell_type": "markdown",
   "metadata": {},
   "source": [
    "## Outer merging of Oxford data, OWID data, and Google mobility data on country and date"
   ]
  },
  {
   "cell_type": "code",
   "execution_count": 13,
   "metadata": {},
   "outputs": [],
   "source": [
    "new_df = pd.merge(oxford_data, owid_data,  how='outer', left_on=['OXCGRT_CountryCode', 'OXCGRT_Date'], right_on = ['OWID_iso_code', 'OWID_date'])"
   ]
  },
  {
   "cell_type": "code",
   "execution_count": 14,
   "metadata": {},
   "outputs": [
    {
     "data": {
      "text/plain": [
       "(75140, 104)"
      ]
     },
     "execution_count": 14,
     "metadata": {},
     "output_type": "execute_result"
    }
   ],
   "source": [
    "new_df.shape"
   ]
  },
  {
   "cell_type": "markdown",
   "metadata": {},
   "source": [
    "Let's create a function <i>get_a_or_b</i> which gets either <i>a</i> or <i>b</i>, depending on which value is non-null. "
   ]
  },
  {
   "cell_type": "code",
   "execution_count": 15,
   "metadata": {},
   "outputs": [],
   "source": [
    "def get_a_or_b(row, a, b):\n",
    "    \n",
    "    row = row.fillna('')\n",
    "    \n",
    "    if row[a]:\n",
    "        return row[a]\n",
    "    elif row[b]:\n",
    "        return row[b]   "
   ]
  },
  {
   "cell_type": "markdown",
   "metadata": {},
   "source": [
    "Apply <i>get_a_or_b</i> to ISO codes and dates and save them in the two columns, `iso_code` and `date`. It helps to get the non-null columns, `iso_code` and `date`."
   ]
  },
  {
   "cell_type": "code",
   "execution_count": 16,
   "metadata": {},
   "outputs": [],
   "source": [
    "new_df['iso_code'] = new_df.apply(get_a_or_b, args=('OXCGRT_CountryCode', 'OWID_iso_code'), axis=1)\n",
    "new_df['date'] = new_df.apply(get_a_or_b, args=('OXCGRT_Date', 'OWID_date'), axis=1)"
   ]
  },
  {
   "cell_type": "markdown",
   "metadata": {},
   "source": [
    "Now, let's delete the columns we applied the function to."
   ]
  },
  {
   "cell_type": "code",
   "execution_count": 17,
   "metadata": {},
   "outputs": [],
   "source": [
    "new_df.drop(['OXCGRT_Date', 'OXCGRT_CountryCode', 'OWID_iso_code', 'OWID_date'], axis=1, inplace=True)"
   ]
  },
  {
   "cell_type": "markdown",
   "metadata": {},
   "source": [
    "We see two different set of country codes being used across the datasets -- two character and three character country codes (Example: NP and NPL for Nepal). Let's bring uniformity by converting the two character country codes to three character country codes using `pycountry` Python package."
   ]
  },
  {
   "cell_type": "code",
   "execution_count": 18,
   "metadata": {},
   "outputs": [],
   "source": [
    "google_data['GCMR_country_region_code'] = google_data['GCMR_country_region_code'].apply(lambda x: pycountry.countries.get(alpha_2=x).alpha_3)"
   ]
  },
  {
   "cell_type": "markdown",
   "metadata": {},
   "source": [
    "Let's now outer merge the above merged data with google data on country code and date."
   ]
  },
  {
   "cell_type": "code",
   "execution_count": 19,
   "metadata": {},
   "outputs": [],
   "source": [
    "final_df = pd.merge(google_data, new_df,  how='outer', left_on=['GCMR_country_region_code', 'GCMR_date'], right_on = ['iso_code', 'date'])"
   ]
  },
  {
   "cell_type": "markdown",
   "metadata": {},
   "source": [
    "Apply <i>get_a_or_b</i> to ISO codes and dates and assign them in the two columns, `iso_code` and `date`. It helps to get the non-null columns, `iso_code` and `date` -- same operation done as above."
   ]
  },
  {
   "cell_type": "code",
   "execution_count": 20,
   "metadata": {},
   "outputs": [],
   "source": [
    "final_df['iso_code'] = final_df.apply(get_a_or_b, args=('GCMR_country_region_code', 'iso_code'), axis=1)\n",
    "final_df['date'] = final_df.apply(get_a_or_b, args=('GCMR_date', 'date'), axis=1)"
   ]
  },
  {
   "cell_type": "markdown",
   "metadata": {},
   "source": [
    "Now, let's delete the columns we applied the function to."
   ]
  },
  {
   "cell_type": "code",
   "execution_count": 21,
   "metadata": {},
   "outputs": [],
   "source": [
    "final_df.drop(['GCMR_country_region_code', 'GCMR_date'], axis=1, inplace=True)"
   ]
  },
  {
   "cell_type": "markdown",
   "metadata": {},
   "source": [
    "Similarly, let's have one single column `Country` which represents the country the data row belongs to. As done above, we apply the <i>get_a_or_b</i> function two times."
   ]
  },
  {
   "cell_type": "code",
   "execution_count": 22,
   "metadata": {},
   "outputs": [],
   "source": [
    "final_df['Country'] = final_df.apply(get_a_or_b, args=('GCMR_country_region', 'OXCGRT_CountryName'), axis=1)"
   ]
  },
  {
   "cell_type": "code",
   "execution_count": 23,
   "metadata": {},
   "outputs": [],
   "source": [
    "final_df['Country'] = final_df.apply(get_a_or_b, args=('Country', 'OWID_location'), axis=1)"
   ]
  },
  {
   "cell_type": "markdown",
   "metadata": {},
   "source": [
    "## Merge with WB's `List of Economies` data"
   ]
  },
  {
   "cell_type": "code",
   "execution_count": 24,
   "metadata": {},
   "outputs": [],
   "source": [
    "economies = pd.read_excel('CLASS (1).xls', sheet_name='List of economies')"
   ]
  },
  {
   "cell_type": "markdown",
   "metadata": {},
   "source": [
    "### Preprocess the data"
   ]
  },
  {
   "cell_type": "code",
   "execution_count": 25,
   "metadata": {},
   "outputs": [],
   "source": [
    "economies.columns = economies.iloc[3, :]\n",
    "economies = economies.iloc[5:223, :]\n",
    "economies = economies[['Economy', 'Code', 'Region', 'Income group', 'Lending category', 'Other']]\n",
    "economies['Lending category'] = economies['Lending category'].replace(to_replace='\\.\\.', value='', regex=True)"
   ]
  },
  {
   "cell_type": "markdown",
   "metadata": {},
   "source": [
    "Prepend the columns with `WB_` to identify the columns coming from WB's `List of Economies` data."
   ]
  },
  {
   "cell_type": "code",
   "execution_count": 26,
   "metadata": {},
   "outputs": [],
   "source": [
    "economies.columns = ['WB_' + i for i in economies.columns]"
   ]
  },
  {
   "cell_type": "markdown",
   "metadata": {},
   "source": [
    "### Merge `final_df` and WB's economies data on country codes."
   ]
  },
  {
   "cell_type": "code",
   "execution_count": 27,
   "metadata": {},
   "outputs": [],
   "source": [
    "merged_df = pd.merge(final_df, economies,  how='outer', left_on=['iso_code'], right_on = ['WB_Code'])"
   ]
  },
  {
   "cell_type": "markdown",
   "metadata": {},
   "source": [
    "Apply the same function as above and assign the country name information in `Country` column."
   ]
  },
  {
   "cell_type": "code",
   "execution_count": 28,
   "metadata": {},
   "outputs": [],
   "source": [
    "merged_df['Country'] = merged_df.apply(get_a_or_b, args=('Country', 'WB_Economy'), axis=1)"
   ]
  },
  {
   "cell_type": "markdown",
   "metadata": {},
   "source": [
    "## Add timestamp"
   ]
  },
  {
   "cell_type": "code",
   "execution_count": 29,
   "metadata": {},
   "outputs": [],
   "source": [
    "merged_df['Timestamp (UTC)'] = datetime.datetime.utcnow().__str__()"
   ]
  },
  {
   "cell_type": "markdown",
   "metadata": {},
   "source": [
    "## Export to CSV file"
   ]
  },
  {
   "cell_type": "code",
   "execution_count": 30,
   "metadata": {},
   "outputs": [],
   "source": [
    "merged_df.to_csv('~/OneDrive/WB/COVID/GCMR_OWID_OxCGRT_WB_{}.csv'.format(int(time.time())), index=False)"
   ]
  },
  {
   "cell_type": "code",
   "execution_count": 45,
   "metadata": {},
   "outputs": [
    {
     "data": {
      "text/html": [
       "<div>\n",
       "<style scoped>\n",
       "    .dataframe tbody tr th:only-of-type {\n",
       "        vertical-align: middle;\n",
       "    }\n",
       "\n",
       "    .dataframe tbody tr th {\n",
       "        vertical-align: top;\n",
       "    }\n",
       "\n",
       "    .dataframe thead th {\n",
       "        text-align: right;\n",
       "    }\n",
       "</style>\n",
       "<table border=\"1\" class=\"dataframe\">\n",
       "  <thead>\n",
       "    <tr style=\"text-align: right;\">\n",
       "      <th></th>\n",
       "      <th>GCMR_country_region</th>\n",
       "      <th>GCMR_sub_region_1</th>\n",
       "      <th>GCMR_sub_region_2</th>\n",
       "      <th>GCMR_metro_area</th>\n",
       "      <th>GCMR_iso_3166_2_code</th>\n",
       "      <th>GCMR_census_fips_code</th>\n",
       "      <th>GCMR_retail_and_recreation_percent_change_from_baseline</th>\n",
       "      <th>GCMR_grocery_and_pharmacy_percent_change_from_baseline</th>\n",
       "      <th>GCMR_parks_percent_change_from_baseline</th>\n",
       "      <th>GCMR_transit_stations_percent_change_from_baseline</th>\n",
       "      <th>...</th>\n",
       "      <th>iso_code</th>\n",
       "      <th>date</th>\n",
       "      <th>Country</th>\n",
       "      <th>WB_Economy</th>\n",
       "      <th>WB_Code</th>\n",
       "      <th>WB_Region</th>\n",
       "      <th>WB_Income group</th>\n",
       "      <th>WB_Lending category</th>\n",
       "      <th>WB_Other</th>\n",
       "      <th>Timestamp (UTC)</th>\n",
       "    </tr>\n",
       "  </thead>\n",
       "  <tbody>\n",
       "    <tr>\n",
       "      <th>30981</th>\n",
       "      <td>NaN</td>\n",
       "      <td>NaN</td>\n",
       "      <td>NaN</td>\n",
       "      <td>NaN</td>\n",
       "      <td>NaN</td>\n",
       "      <td>NaN</td>\n",
       "      <td>NaN</td>\n",
       "      <td>NaN</td>\n",
       "      <td>NaN</td>\n",
       "      <td>NaN</td>\n",
       "      <td>...</td>\n",
       "      <td>NPL</td>\n",
       "      <td>2020-11-26</td>\n",
       "      <td>Nepal</td>\n",
       "      <td>Nepal</td>\n",
       "      <td>NPL</td>\n",
       "      <td>South Asia</td>\n",
       "      <td>Lower middle income</td>\n",
       "      <td>IDA</td>\n",
       "      <td>NaN</td>\n",
       "      <td>2020-11-26 08:46:54.787897</td>\n",
       "    </tr>\n",
       "    <tr>\n",
       "      <th>30980</th>\n",
       "      <td>NaN</td>\n",
       "      <td>NaN</td>\n",
       "      <td>NaN</td>\n",
       "      <td>NaN</td>\n",
       "      <td>NaN</td>\n",
       "      <td>NaN</td>\n",
       "      <td>NaN</td>\n",
       "      <td>NaN</td>\n",
       "      <td>NaN</td>\n",
       "      <td>NaN</td>\n",
       "      <td>...</td>\n",
       "      <td>NPL</td>\n",
       "      <td>2020-11-25</td>\n",
       "      <td>Nepal</td>\n",
       "      <td>Nepal</td>\n",
       "      <td>NPL</td>\n",
       "      <td>South Asia</td>\n",
       "      <td>Lower middle income</td>\n",
       "      <td>IDA</td>\n",
       "      <td>NaN</td>\n",
       "      <td>2020-11-26 08:46:54.787897</td>\n",
       "    </tr>\n",
       "    <tr>\n",
       "      <th>30979</th>\n",
       "      <td>NaN</td>\n",
       "      <td>NaN</td>\n",
       "      <td>NaN</td>\n",
       "      <td>NaN</td>\n",
       "      <td>NaN</td>\n",
       "      <td>NaN</td>\n",
       "      <td>NaN</td>\n",
       "      <td>NaN</td>\n",
       "      <td>NaN</td>\n",
       "      <td>NaN</td>\n",
       "      <td>...</td>\n",
       "      <td>NPL</td>\n",
       "      <td>2020-11-24</td>\n",
       "      <td>Nepal</td>\n",
       "      <td>Nepal</td>\n",
       "      <td>NPL</td>\n",
       "      <td>South Asia</td>\n",
       "      <td>Lower middle income</td>\n",
       "      <td>IDA</td>\n",
       "      <td>NaN</td>\n",
       "      <td>2020-11-26 08:46:54.787897</td>\n",
       "    </tr>\n",
       "    <tr>\n",
       "      <th>30978</th>\n",
       "      <td>NaN</td>\n",
       "      <td>NaN</td>\n",
       "      <td>NaN</td>\n",
       "      <td>NaN</td>\n",
       "      <td>NaN</td>\n",
       "      <td>NaN</td>\n",
       "      <td>NaN</td>\n",
       "      <td>NaN</td>\n",
       "      <td>NaN</td>\n",
       "      <td>NaN</td>\n",
       "      <td>...</td>\n",
       "      <td>NPL</td>\n",
       "      <td>2020-11-23</td>\n",
       "      <td>Nepal</td>\n",
       "      <td>Nepal</td>\n",
       "      <td>NPL</td>\n",
       "      <td>South Asia</td>\n",
       "      <td>Lower middle income</td>\n",
       "      <td>IDA</td>\n",
       "      <td>NaN</td>\n",
       "      <td>2020-11-26 08:46:54.787897</td>\n",
       "    </tr>\n",
       "    <tr>\n",
       "      <th>30932</th>\n",
       "      <td>Nepal</td>\n",
       "      <td>NaN</td>\n",
       "      <td>NaN</td>\n",
       "      <td>NaN</td>\n",
       "      <td>NaN</td>\n",
       "      <td>NaN</td>\n",
       "      <td>-22.0</td>\n",
       "      <td>1.0</td>\n",
       "      <td>-6.0</td>\n",
       "      <td>-1.0</td>\n",
       "      <td>...</td>\n",
       "      <td>NPL</td>\n",
       "      <td>2020-11-22</td>\n",
       "      <td>Nepal</td>\n",
       "      <td>Nepal</td>\n",
       "      <td>NPL</td>\n",
       "      <td>South Asia</td>\n",
       "      <td>Lower middle income</td>\n",
       "      <td>IDA</td>\n",
       "      <td>NaN</td>\n",
       "      <td>2020-11-26 08:46:54.787897</td>\n",
       "    </tr>\n",
       "    <tr>\n",
       "      <th>30931</th>\n",
       "      <td>Nepal</td>\n",
       "      <td>NaN</td>\n",
       "      <td>NaN</td>\n",
       "      <td>NaN</td>\n",
       "      <td>NaN</td>\n",
       "      <td>NaN</td>\n",
       "      <td>-32.0</td>\n",
       "      <td>-4.0</td>\n",
       "      <td>-8.0</td>\n",
       "      <td>-9.0</td>\n",
       "      <td>...</td>\n",
       "      <td>NPL</td>\n",
       "      <td>2020-11-21</td>\n",
       "      <td>Nepal</td>\n",
       "      <td>Nepal</td>\n",
       "      <td>NPL</td>\n",
       "      <td>South Asia</td>\n",
       "      <td>Lower middle income</td>\n",
       "      <td>IDA</td>\n",
       "      <td>NaN</td>\n",
       "      <td>2020-11-26 08:46:54.787897</td>\n",
       "    </tr>\n",
       "    <tr>\n",
       "      <th>30930</th>\n",
       "      <td>Nepal</td>\n",
       "      <td>NaN</td>\n",
       "      <td>NaN</td>\n",
       "      <td>NaN</td>\n",
       "      <td>NaN</td>\n",
       "      <td>NaN</td>\n",
       "      <td>-29.0</td>\n",
       "      <td>0.0</td>\n",
       "      <td>-4.0</td>\n",
       "      <td>-10.0</td>\n",
       "      <td>...</td>\n",
       "      <td>NPL</td>\n",
       "      <td>2020-11-20</td>\n",
       "      <td>Nepal</td>\n",
       "      <td>Nepal</td>\n",
       "      <td>NPL</td>\n",
       "      <td>South Asia</td>\n",
       "      <td>Lower middle income</td>\n",
       "      <td>IDA</td>\n",
       "      <td>NaN</td>\n",
       "      <td>2020-11-26 08:46:54.787897</td>\n",
       "    </tr>\n",
       "    <tr>\n",
       "      <th>30929</th>\n",
       "      <td>Nepal</td>\n",
       "      <td>NaN</td>\n",
       "      <td>NaN</td>\n",
       "      <td>NaN</td>\n",
       "      <td>NaN</td>\n",
       "      <td>NaN</td>\n",
       "      <td>-26.0</td>\n",
       "      <td>2.0</td>\n",
       "      <td>-9.0</td>\n",
       "      <td>-6.0</td>\n",
       "      <td>...</td>\n",
       "      <td>NPL</td>\n",
       "      <td>2020-11-19</td>\n",
       "      <td>Nepal</td>\n",
       "      <td>Nepal</td>\n",
       "      <td>NPL</td>\n",
       "      <td>South Asia</td>\n",
       "      <td>Lower middle income</td>\n",
       "      <td>IDA</td>\n",
       "      <td>NaN</td>\n",
       "      <td>2020-11-26 08:46:54.787897</td>\n",
       "    </tr>\n",
       "    <tr>\n",
       "      <th>30928</th>\n",
       "      <td>Nepal</td>\n",
       "      <td>NaN</td>\n",
       "      <td>NaN</td>\n",
       "      <td>NaN</td>\n",
       "      <td>NaN</td>\n",
       "      <td>NaN</td>\n",
       "      <td>-27.0</td>\n",
       "      <td>0.0</td>\n",
       "      <td>-12.0</td>\n",
       "      <td>-6.0</td>\n",
       "      <td>...</td>\n",
       "      <td>NPL</td>\n",
       "      <td>2020-11-18</td>\n",
       "      <td>Nepal</td>\n",
       "      <td>Nepal</td>\n",
       "      <td>NPL</td>\n",
       "      <td>South Asia</td>\n",
       "      <td>Lower middle income</td>\n",
       "      <td>IDA</td>\n",
       "      <td>NaN</td>\n",
       "      <td>2020-11-26 08:46:54.787897</td>\n",
       "    </tr>\n",
       "    <tr>\n",
       "      <th>30927</th>\n",
       "      <td>Nepal</td>\n",
       "      <td>NaN</td>\n",
       "      <td>NaN</td>\n",
       "      <td>NaN</td>\n",
       "      <td>NaN</td>\n",
       "      <td>NaN</td>\n",
       "      <td>-37.0</td>\n",
       "      <td>-11.0</td>\n",
       "      <td>-6.0</td>\n",
       "      <td>-16.0</td>\n",
       "      <td>...</td>\n",
       "      <td>NPL</td>\n",
       "      <td>2020-11-17</td>\n",
       "      <td>Nepal</td>\n",
       "      <td>Nepal</td>\n",
       "      <td>NPL</td>\n",
       "      <td>South Asia</td>\n",
       "      <td>Lower middle income</td>\n",
       "      <td>IDA</td>\n",
       "      <td>NaN</td>\n",
       "      <td>2020-11-26 08:46:54.787897</td>\n",
       "    </tr>\n",
       "    <tr>\n",
       "      <th>30926</th>\n",
       "      <td>Nepal</td>\n",
       "      <td>NaN</td>\n",
       "      <td>NaN</td>\n",
       "      <td>NaN</td>\n",
       "      <td>NaN</td>\n",
       "      <td>NaN</td>\n",
       "      <td>-48.0</td>\n",
       "      <td>-24.0</td>\n",
       "      <td>-4.0</td>\n",
       "      <td>-24.0</td>\n",
       "      <td>...</td>\n",
       "      <td>NPL</td>\n",
       "      <td>2020-11-16</td>\n",
       "      <td>Nepal</td>\n",
       "      <td>Nepal</td>\n",
       "      <td>NPL</td>\n",
       "      <td>South Asia</td>\n",
       "      <td>Lower middle income</td>\n",
       "      <td>IDA</td>\n",
       "      <td>NaN</td>\n",
       "      <td>2020-11-26 08:46:54.787897</td>\n",
       "    </tr>\n",
       "    <tr>\n",
       "      <th>30925</th>\n",
       "      <td>Nepal</td>\n",
       "      <td>NaN</td>\n",
       "      <td>NaN</td>\n",
       "      <td>NaN</td>\n",
       "      <td>NaN</td>\n",
       "      <td>NaN</td>\n",
       "      <td>-35.0</td>\n",
       "      <td>1.0</td>\n",
       "      <td>-7.0</td>\n",
       "      <td>-11.0</td>\n",
       "      <td>...</td>\n",
       "      <td>NPL</td>\n",
       "      <td>2020-11-15</td>\n",
       "      <td>Nepal</td>\n",
       "      <td>Nepal</td>\n",
       "      <td>NPL</td>\n",
       "      <td>South Asia</td>\n",
       "      <td>Lower middle income</td>\n",
       "      <td>IDA</td>\n",
       "      <td>NaN</td>\n",
       "      <td>2020-11-26 08:46:54.787897</td>\n",
       "    </tr>\n",
       "    <tr>\n",
       "      <th>30924</th>\n",
       "      <td>Nepal</td>\n",
       "      <td>NaN</td>\n",
       "      <td>NaN</td>\n",
       "      <td>NaN</td>\n",
       "      <td>NaN</td>\n",
       "      <td>NaN</td>\n",
       "      <td>-29.0</td>\n",
       "      <td>9.0</td>\n",
       "      <td>-12.0</td>\n",
       "      <td>-4.0</td>\n",
       "      <td>...</td>\n",
       "      <td>NPL</td>\n",
       "      <td>2020-11-14</td>\n",
       "      <td>Nepal</td>\n",
       "      <td>Nepal</td>\n",
       "      <td>NPL</td>\n",
       "      <td>South Asia</td>\n",
       "      <td>Lower middle income</td>\n",
       "      <td>IDA</td>\n",
       "      <td>NaN</td>\n",
       "      <td>2020-11-26 08:46:54.787897</td>\n",
       "    </tr>\n",
       "    <tr>\n",
       "      <th>30923</th>\n",
       "      <td>Nepal</td>\n",
       "      <td>NaN</td>\n",
       "      <td>NaN</td>\n",
       "      <td>NaN</td>\n",
       "      <td>NaN</td>\n",
       "      <td>NaN</td>\n",
       "      <td>-21.0</td>\n",
       "      <td>18.0</td>\n",
       "      <td>-5.0</td>\n",
       "      <td>3.0</td>\n",
       "      <td>...</td>\n",
       "      <td>NPL</td>\n",
       "      <td>2020-11-13</td>\n",
       "      <td>Nepal</td>\n",
       "      <td>Nepal</td>\n",
       "      <td>NPL</td>\n",
       "      <td>South Asia</td>\n",
       "      <td>Lower middle income</td>\n",
       "      <td>IDA</td>\n",
       "      <td>NaN</td>\n",
       "      <td>2020-11-26 08:46:54.787897</td>\n",
       "    </tr>\n",
       "    <tr>\n",
       "      <th>30922</th>\n",
       "      <td>Nepal</td>\n",
       "      <td>NaN</td>\n",
       "      <td>NaN</td>\n",
       "      <td>NaN</td>\n",
       "      <td>NaN</td>\n",
       "      <td>NaN</td>\n",
       "      <td>-23.0</td>\n",
       "      <td>7.0</td>\n",
       "      <td>-10.0</td>\n",
       "      <td>-6.0</td>\n",
       "      <td>...</td>\n",
       "      <td>NPL</td>\n",
       "      <td>2020-11-12</td>\n",
       "      <td>Nepal</td>\n",
       "      <td>Nepal</td>\n",
       "      <td>NPL</td>\n",
       "      <td>South Asia</td>\n",
       "      <td>Lower middle income</td>\n",
       "      <td>IDA</td>\n",
       "      <td>NaN</td>\n",
       "      <td>2020-11-26 08:46:54.787897</td>\n",
       "    </tr>\n",
       "    <tr>\n",
       "      <th>30921</th>\n",
       "      <td>Nepal</td>\n",
       "      <td>NaN</td>\n",
       "      <td>NaN</td>\n",
       "      <td>NaN</td>\n",
       "      <td>NaN</td>\n",
       "      <td>NaN</td>\n",
       "      <td>-24.0</td>\n",
       "      <td>2.0</td>\n",
       "      <td>-15.0</td>\n",
       "      <td>-9.0</td>\n",
       "      <td>...</td>\n",
       "      <td>NPL</td>\n",
       "      <td>2020-11-11</td>\n",
       "      <td>Nepal</td>\n",
       "      <td>Nepal</td>\n",
       "      <td>NPL</td>\n",
       "      <td>South Asia</td>\n",
       "      <td>Lower middle income</td>\n",
       "      <td>IDA</td>\n",
       "      <td>NaN</td>\n",
       "      <td>2020-11-26 08:46:54.787897</td>\n",
       "    </tr>\n",
       "    <tr>\n",
       "      <th>30920</th>\n",
       "      <td>Nepal</td>\n",
       "      <td>NaN</td>\n",
       "      <td>NaN</td>\n",
       "      <td>NaN</td>\n",
       "      <td>NaN</td>\n",
       "      <td>NaN</td>\n",
       "      <td>-25.0</td>\n",
       "      <td>-3.0</td>\n",
       "      <td>-12.0</td>\n",
       "      <td>-12.0</td>\n",
       "      <td>...</td>\n",
       "      <td>NPL</td>\n",
       "      <td>2020-11-10</td>\n",
       "      <td>Nepal</td>\n",
       "      <td>Nepal</td>\n",
       "      <td>NPL</td>\n",
       "      <td>South Asia</td>\n",
       "      <td>Lower middle income</td>\n",
       "      <td>IDA</td>\n",
       "      <td>NaN</td>\n",
       "      <td>2020-11-26 08:46:54.787897</td>\n",
       "    </tr>\n",
       "    <tr>\n",
       "      <th>30919</th>\n",
       "      <td>Nepal</td>\n",
       "      <td>NaN</td>\n",
       "      <td>NaN</td>\n",
       "      <td>NaN</td>\n",
       "      <td>NaN</td>\n",
       "      <td>NaN</td>\n",
       "      <td>-30.0</td>\n",
       "      <td>-9.0</td>\n",
       "      <td>-15.0</td>\n",
       "      <td>-16.0</td>\n",
       "      <td>...</td>\n",
       "      <td>NPL</td>\n",
       "      <td>2020-11-09</td>\n",
       "      <td>Nepal</td>\n",
       "      <td>Nepal</td>\n",
       "      <td>NPL</td>\n",
       "      <td>South Asia</td>\n",
       "      <td>Lower middle income</td>\n",
       "      <td>IDA</td>\n",
       "      <td>NaN</td>\n",
       "      <td>2020-11-26 08:46:54.787897</td>\n",
       "    </tr>\n",
       "    <tr>\n",
       "      <th>30918</th>\n",
       "      <td>Nepal</td>\n",
       "      <td>NaN</td>\n",
       "      <td>NaN</td>\n",
       "      <td>NaN</td>\n",
       "      <td>NaN</td>\n",
       "      <td>NaN</td>\n",
       "      <td>-28.0</td>\n",
       "      <td>-7.0</td>\n",
       "      <td>-13.0</td>\n",
       "      <td>-13.0</td>\n",
       "      <td>...</td>\n",
       "      <td>NPL</td>\n",
       "      <td>2020-11-08</td>\n",
       "      <td>Nepal</td>\n",
       "      <td>Nepal</td>\n",
       "      <td>NPL</td>\n",
       "      <td>South Asia</td>\n",
       "      <td>Lower middle income</td>\n",
       "      <td>IDA</td>\n",
       "      <td>NaN</td>\n",
       "      <td>2020-11-26 08:46:54.787897</td>\n",
       "    </tr>\n",
       "    <tr>\n",
       "      <th>30917</th>\n",
       "      <td>Nepal</td>\n",
       "      <td>NaN</td>\n",
       "      <td>NaN</td>\n",
       "      <td>NaN</td>\n",
       "      <td>NaN</td>\n",
       "      <td>NaN</td>\n",
       "      <td>-36.0</td>\n",
       "      <td>-12.0</td>\n",
       "      <td>-16.0</td>\n",
       "      <td>-17.0</td>\n",
       "      <td>...</td>\n",
       "      <td>NPL</td>\n",
       "      <td>2020-11-07</td>\n",
       "      <td>Nepal</td>\n",
       "      <td>Nepal</td>\n",
       "      <td>NPL</td>\n",
       "      <td>South Asia</td>\n",
       "      <td>Lower middle income</td>\n",
       "      <td>IDA</td>\n",
       "      <td>NaN</td>\n",
       "      <td>2020-11-26 08:46:54.787897</td>\n",
       "    </tr>\n",
       "  </tbody>\n",
       "</table>\n",
       "<p>20 rows × 115 columns</p>\n",
       "</div>"
      ],
      "text/plain": [
       "      GCMR_country_region GCMR_sub_region_1 GCMR_sub_region_2 GCMR_metro_area  \\\n",
       "30981                 NaN               NaN               NaN             NaN   \n",
       "30980                 NaN               NaN               NaN             NaN   \n",
       "30979                 NaN               NaN               NaN             NaN   \n",
       "30978                 NaN               NaN               NaN             NaN   \n",
       "30932               Nepal               NaN               NaN             NaN   \n",
       "30931               Nepal               NaN               NaN             NaN   \n",
       "30930               Nepal               NaN               NaN             NaN   \n",
       "30929               Nepal               NaN               NaN             NaN   \n",
       "30928               Nepal               NaN               NaN             NaN   \n",
       "30927               Nepal               NaN               NaN             NaN   \n",
       "30926               Nepal               NaN               NaN             NaN   \n",
       "30925               Nepal               NaN               NaN             NaN   \n",
       "30924               Nepal               NaN               NaN             NaN   \n",
       "30923               Nepal               NaN               NaN             NaN   \n",
       "30922               Nepal               NaN               NaN             NaN   \n",
       "30921               Nepal               NaN               NaN             NaN   \n",
       "30920               Nepal               NaN               NaN             NaN   \n",
       "30919               Nepal               NaN               NaN             NaN   \n",
       "30918               Nepal               NaN               NaN             NaN   \n",
       "30917               Nepal               NaN               NaN             NaN   \n",
       "\n",
       "      GCMR_iso_3166_2_code  GCMR_census_fips_code  \\\n",
       "30981                  NaN                    NaN   \n",
       "30980                  NaN                    NaN   \n",
       "30979                  NaN                    NaN   \n",
       "30978                  NaN                    NaN   \n",
       "30932                  NaN                    NaN   \n",
       "30931                  NaN                    NaN   \n",
       "30930                  NaN                    NaN   \n",
       "30929                  NaN                    NaN   \n",
       "30928                  NaN                    NaN   \n",
       "30927                  NaN                    NaN   \n",
       "30926                  NaN                    NaN   \n",
       "30925                  NaN                    NaN   \n",
       "30924                  NaN                    NaN   \n",
       "30923                  NaN                    NaN   \n",
       "30922                  NaN                    NaN   \n",
       "30921                  NaN                    NaN   \n",
       "30920                  NaN                    NaN   \n",
       "30919                  NaN                    NaN   \n",
       "30918                  NaN                    NaN   \n",
       "30917                  NaN                    NaN   \n",
       "\n",
       "       GCMR_retail_and_recreation_percent_change_from_baseline  \\\n",
       "30981                                                NaN         \n",
       "30980                                                NaN         \n",
       "30979                                                NaN         \n",
       "30978                                                NaN         \n",
       "30932                                              -22.0         \n",
       "30931                                              -32.0         \n",
       "30930                                              -29.0         \n",
       "30929                                              -26.0         \n",
       "30928                                              -27.0         \n",
       "30927                                              -37.0         \n",
       "30926                                              -48.0         \n",
       "30925                                              -35.0         \n",
       "30924                                              -29.0         \n",
       "30923                                              -21.0         \n",
       "30922                                              -23.0         \n",
       "30921                                              -24.0         \n",
       "30920                                              -25.0         \n",
       "30919                                              -30.0         \n",
       "30918                                              -28.0         \n",
       "30917                                              -36.0         \n",
       "\n",
       "       GCMR_grocery_and_pharmacy_percent_change_from_baseline  \\\n",
       "30981                                                NaN        \n",
       "30980                                                NaN        \n",
       "30979                                                NaN        \n",
       "30978                                                NaN        \n",
       "30932                                                1.0        \n",
       "30931                                               -4.0        \n",
       "30930                                                0.0        \n",
       "30929                                                2.0        \n",
       "30928                                                0.0        \n",
       "30927                                              -11.0        \n",
       "30926                                              -24.0        \n",
       "30925                                                1.0        \n",
       "30924                                                9.0        \n",
       "30923                                               18.0        \n",
       "30922                                                7.0        \n",
       "30921                                                2.0        \n",
       "30920                                               -3.0        \n",
       "30919                                               -9.0        \n",
       "30918                                               -7.0        \n",
       "30917                                              -12.0        \n",
       "\n",
       "       GCMR_parks_percent_change_from_baseline  \\\n",
       "30981                                      NaN   \n",
       "30980                                      NaN   \n",
       "30979                                      NaN   \n",
       "30978                                      NaN   \n",
       "30932                                     -6.0   \n",
       "30931                                     -8.0   \n",
       "30930                                     -4.0   \n",
       "30929                                     -9.0   \n",
       "30928                                    -12.0   \n",
       "30927                                     -6.0   \n",
       "30926                                     -4.0   \n",
       "30925                                     -7.0   \n",
       "30924                                    -12.0   \n",
       "30923                                     -5.0   \n",
       "30922                                    -10.0   \n",
       "30921                                    -15.0   \n",
       "30920                                    -12.0   \n",
       "30919                                    -15.0   \n",
       "30918                                    -13.0   \n",
       "30917                                    -16.0   \n",
       "\n",
       "       GCMR_transit_stations_percent_change_from_baseline  ...  iso_code  \\\n",
       "30981                                                NaN   ...       NPL   \n",
       "30980                                                NaN   ...       NPL   \n",
       "30979                                                NaN   ...       NPL   \n",
       "30978                                                NaN   ...       NPL   \n",
       "30932                                               -1.0   ...       NPL   \n",
       "30931                                               -9.0   ...       NPL   \n",
       "30930                                              -10.0   ...       NPL   \n",
       "30929                                               -6.0   ...       NPL   \n",
       "30928                                               -6.0   ...       NPL   \n",
       "30927                                              -16.0   ...       NPL   \n",
       "30926                                              -24.0   ...       NPL   \n",
       "30925                                              -11.0   ...       NPL   \n",
       "30924                                               -4.0   ...       NPL   \n",
       "30923                                                3.0   ...       NPL   \n",
       "30922                                               -6.0   ...       NPL   \n",
       "30921                                               -9.0   ...       NPL   \n",
       "30920                                              -12.0   ...       NPL   \n",
       "30919                                              -16.0   ...       NPL   \n",
       "30918                                              -13.0   ...       NPL   \n",
       "30917                                              -17.0   ...       NPL   \n",
       "\n",
       "             date Country WB_Economy WB_Code   WB_Region      WB_Income group  \\\n",
       "30981  2020-11-26   Nepal      Nepal     NPL  South Asia  Lower middle income   \n",
       "30980  2020-11-25   Nepal      Nepal     NPL  South Asia  Lower middle income   \n",
       "30979  2020-11-24   Nepal      Nepal     NPL  South Asia  Lower middle income   \n",
       "30978  2020-11-23   Nepal      Nepal     NPL  South Asia  Lower middle income   \n",
       "30932  2020-11-22   Nepal      Nepal     NPL  South Asia  Lower middle income   \n",
       "30931  2020-11-21   Nepal      Nepal     NPL  South Asia  Lower middle income   \n",
       "30930  2020-11-20   Nepal      Nepal     NPL  South Asia  Lower middle income   \n",
       "30929  2020-11-19   Nepal      Nepal     NPL  South Asia  Lower middle income   \n",
       "30928  2020-11-18   Nepal      Nepal     NPL  South Asia  Lower middle income   \n",
       "30927  2020-11-17   Nepal      Nepal     NPL  South Asia  Lower middle income   \n",
       "30926  2020-11-16   Nepal      Nepal     NPL  South Asia  Lower middle income   \n",
       "30925  2020-11-15   Nepal      Nepal     NPL  South Asia  Lower middle income   \n",
       "30924  2020-11-14   Nepal      Nepal     NPL  South Asia  Lower middle income   \n",
       "30923  2020-11-13   Nepal      Nepal     NPL  South Asia  Lower middle income   \n",
       "30922  2020-11-12   Nepal      Nepal     NPL  South Asia  Lower middle income   \n",
       "30921  2020-11-11   Nepal      Nepal     NPL  South Asia  Lower middle income   \n",
       "30920  2020-11-10   Nepal      Nepal     NPL  South Asia  Lower middle income   \n",
       "30919  2020-11-09   Nepal      Nepal     NPL  South Asia  Lower middle income   \n",
       "30918  2020-11-08   Nepal      Nepal     NPL  South Asia  Lower middle income   \n",
       "30917  2020-11-07   Nepal      Nepal     NPL  South Asia  Lower middle income   \n",
       "\n",
       "       WB_Lending category  WB_Other             Timestamp (UTC)  \n",
       "30981                  IDA       NaN  2020-11-26 08:46:54.787897  \n",
       "30980                  IDA       NaN  2020-11-26 08:46:54.787897  \n",
       "30979                  IDA       NaN  2020-11-26 08:46:54.787897  \n",
       "30978                  IDA       NaN  2020-11-26 08:46:54.787897  \n",
       "30932                  IDA       NaN  2020-11-26 08:46:54.787897  \n",
       "30931                  IDA       NaN  2020-11-26 08:46:54.787897  \n",
       "30930                  IDA       NaN  2020-11-26 08:46:54.787897  \n",
       "30929                  IDA       NaN  2020-11-26 08:46:54.787897  \n",
       "30928                  IDA       NaN  2020-11-26 08:46:54.787897  \n",
       "30927                  IDA       NaN  2020-11-26 08:46:54.787897  \n",
       "30926                  IDA       NaN  2020-11-26 08:46:54.787897  \n",
       "30925                  IDA       NaN  2020-11-26 08:46:54.787897  \n",
       "30924                  IDA       NaN  2020-11-26 08:46:54.787897  \n",
       "30923                  IDA       NaN  2020-11-26 08:46:54.787897  \n",
       "30922                  IDA       NaN  2020-11-26 08:46:54.787897  \n",
       "30921                  IDA       NaN  2020-11-26 08:46:54.787897  \n",
       "30920                  IDA       NaN  2020-11-26 08:46:54.787897  \n",
       "30919                  IDA       NaN  2020-11-26 08:46:54.787897  \n",
       "30918                  IDA       NaN  2020-11-26 08:46:54.787897  \n",
       "30917                  IDA       NaN  2020-11-26 08:46:54.787897  \n",
       "\n",
       "[20 rows x 115 columns]"
      ]
     },
     "execution_count": 45,
     "metadata": {},
     "output_type": "execute_result"
    }
   ],
   "source": [
    "merged_df[merged_df['Country'] == \"Nepal\"].sort_values(by=['date'], ascending=False).head(20)"
   ]
  },
  {
   "cell_type": "code",
   "execution_count": null,
   "metadata": {},
   "outputs": [],
   "source": []
  }
 ],
 "metadata": {
  "kernelspec": {
   "display_name": "Python 3",
   "language": "python",
   "name": "python3"
  },
  "language_info": {
   "codemirror_mode": {
    "name": "ipython",
    "version": 3
   },
   "file_extension": ".py",
   "mimetype": "text/x-python",
   "name": "python",
   "nbconvert_exporter": "python",
   "pygments_lexer": "ipython3",
   "version": "3.6.9"
  }
 },
 "nbformat": 4,
 "nbformat_minor": 2
}
